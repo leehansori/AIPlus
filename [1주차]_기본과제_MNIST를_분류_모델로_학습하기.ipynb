{
  "nbformat": 4,
  "nbformat_minor": 0,
  "metadata": {
    "colab": {
      "provenance": [],
      "gpuType": "T4"
    },
    "kernelspec": {
      "name": "python3",
      "display_name": "Python 3"
    },
    "language_info": {
      "name": "python"
    },
    "accelerator": "GPU"
  },
  "cells": [
    {
      "cell_type": "code",
      "execution_count": 1,
      "metadata": {
        "id": "6lXVfXoDtoQh"
      },
      "outputs": [],
      "source": [
        "import torch\n",
        "import torchvision\n",
        "import torchvision.transforms as transforms"
      ]
    },
    {
      "cell_type": "code",
      "source": [
        "transform = transforms.ToTensor() # 데이터를 Tensor 형식으로 변환하기 위함\n",
        "\n",
        "trainset = torchvision.datasets.MNIST( # torchvision 라이브러리에 내장된 MNIST 데이터셋\n",
        "    root='./data',\n",
        "    train=True,\n",
        "    download=True, # 데이터 없으면 다운로드\n",
        "    transform=transform # Tensor로 변환\n",
        ")"
      ],
      "metadata": {
        "id": "KAYlqPaRt6ti",
        "colab": {
          "base_uri": "https://localhost:8080/"
        },
        "collapsed": true,
        "outputId": "87ae5df9-1ab9-49ca-e475-8b75ca4d1356"
      },
      "execution_count": 2,
      "outputs": [
        {
          "output_type": "stream",
          "name": "stderr",
          "text": [
            "100%|██████████| 9.91M/9.91M [00:00<00:00, 17.4MB/s]\n",
            "100%|██████████| 28.9k/28.9k [00:00<00:00, 459kB/s]\n",
            "100%|██████████| 1.65M/1.65M [00:00<00:00, 4.36MB/s]\n",
            "100%|██████████| 4.54k/4.54k [00:00<00:00, 8.42MB/s]\n"
          ]
        }
      ]
    },
    {
      "cell_type": "code",
      "source": [
        "from matplotlib import pyplot as plt\n",
        "\n",
        "\n",
        "print(len(trainset)) # 학습 데이터셋 크기\n",
        "print(trainset[0][0].shape, trainset[0][1]) # 첫 번째 샘플 이미지 데이터와 라벨\n",
        "plt.imshow(trainset[0][0][0], cmap='gray') # 그리기"
      ],
      "metadata": {
        "colab": {
          "base_uri": "https://localhost:8080/",
          "height": 485
        },
        "id": "Zsp3sHmojyhT",
        "outputId": "675d52ef-4a58-44f6-9523-5f5133f15769",
        "collapsed": true
      },
      "execution_count": 3,
      "outputs": [
        {
          "output_type": "stream",
          "name": "stdout",
          "text": [
            "60000\n",
            "torch.Size([1, 28, 28]) 5\n"
          ]
        },
        {
          "output_type": "execute_result",
          "data": {
            "text/plain": [
              "<matplotlib.image.AxesImage at 0x7dc5b79ee390>"
            ]
          },
          "metadata": {},
          "execution_count": 3
        },
        {
          "output_type": "display_data",
          "data": {
            "text/plain": [
              "<Figure size 640x480 with 1 Axes>"
            ],
            "image/png": "[encoded data removed]"
          },
          "metadata": {}
        }
      ]
    },
    {
      "cell_type": "code",
      "source": [
        "batch_size = 256 #  한 번에 모델이 학습할 데이터 샘플의 개수 (중요한 hyper param 이라고 했으니 변경 해보기)\n",
        "\n",
        "# DataLoader : PyTorch에서 데이터셋을 효율적으로 로드하고 배치(batch) 단위로 데이터를 제공하는 역할을 하는 도구\n",
        "trainloader = torch.utils.data.DataLoader(\n",
        "    trainset,\n",
        "    batch_size=batch_size, # 미니 배치 크기 설정\n",
        "    shuffle=True # 데이터 섞어서 배치 설정 ()\n",
        ")"
      ],
      "metadata": {
        "id": "UxKu3kA2i5WH"
      },
      "execution_count": 16,
      "outputs": []
    },
    {
      "cell_type": "code",
      "source": [
        "testset = torchvision.datasets.MNIST(\n",
        "    root='./data',\n",
        "    train=False,\n",
        "    download=True,\n",
        "    transform=transform\n",
        ")\n",
        "\n",
        "testloader = torch.utils.data.DataLoader(\n",
        "    testset,\n",
        "    batch_size=batch_size,\n",
        "    shuffle=False  # 테스트 데이터는 섞지 않음\n",
        ")"
      ],
      "metadata": {
        "id": "P47-lrr3FUXY"
      },
      "execution_count": 17,
      "outputs": []
    },
    {
      "cell_type": "code",
      "source": [
        "dataiter = iter(trainloader) # 학습 데이터셋에서 첫 번째 배치를 가져와서 확인\n",
        "images, labels = next(dataiter)\n",
        "print(images.shape, labels.shape)\n",
        "# images는 흑백 이미지로 채널 개수 1. [배치 크기, 채널 수, 이미지 높이, 이미지 너비]\n",
        "# labels는 64개 이미지에 대한 각각의 정답 라벨"
      ],
      "metadata": {
        "colab": {
          "base_uri": "https://localhost:8080/"
        },
        "id": "_Hd7XxyAvVNz",
        "outputId": "df72cb5a-340f-4ece-b1e8-2f6e53a79cad"
      },
      "execution_count": 18,
      "outputs": [
        {
          "output_type": "stream",
          "name": "stdout",
          "text": [
            "torch.Size([256, 1, 28, 28]) torch.Size([256])\n"
          ]
        }
      ]
    },
    {
      "cell_type": "code",
      "source": [
        "from torch import nn\n",
        "\n",
        "\n",
        "class Model(nn.Module):\n",
        "  def __init__(self, input_dim, n_dim):\n",
        "    super().__init__()\n",
        "\n",
        "    self.layer1 = nn.Linear(input_dim, n_dim) # 첫 번째 선형 계층 (입력 -> 은닉층)\n",
        "    self.layer2 = nn.Linear(n_dim, n_dim) # 두 번째 선형 계층 (은닉층 -> 은닉층)\n",
        "    self.layer3 = nn.Linear(n_dim, 10)  # 세 번째 선형 계층 (은닉층 -> 출력층)\n",
        "\n",
        "    self.act = nn.ReLU() # 활성화 함수로 ReLU 사용\n",
        "\n",
        "  def forward(self, x):\n",
        "    x = torch.flatten(x, start_dim=1) # 입력 데이터를 1차원으로 펼침 (28x28 -> 784)\n",
        "    x = self.act(self.layer1(x))  # 첫 번째 계층 연산 후 ReLU 적용\n",
        "    x = self.act(self.layer2(x))  # 두 번째 계층 연산 후 ReLU 적용\n",
        "    x = self.act(self.layer3(x))  # 세 번째 계층 연산 후 ReLU 적용\n",
        "\n",
        "    return x\n",
        "\n",
        "\n",
        "model = Model(28 * 28 * 1, 1024) # 모델 생성 (입력 크기: 28x28, 은닉층 크기: 1024)\n",
        "# 은닉층 크기 = 은닉층 노드의 개수\n",
        "# 하이퍼파라미터로 2의 제곱수 값이 많이 사용 (GPU 연산 최적화)\n",
        "# 너무 작으면 학습 부족, 너무 크면 과적합 위험"
      ],
      "metadata": {
        "id": "OLOA-ZGTuVVG"
      },
      "execution_count": 19,
      "outputs": []
    },
    {
      "cell_type": "code",
      "source": [
        "from torch.optim import SGD\n",
        "\n",
        "lr = 0.001 # 학습률 (중요한 hyper param)\n",
        "model = model.to('cuda') # 모델 gpu로 이동\n",
        "\n",
        "optimizer = SGD(model.parameters(), lr=lr) # batch가 64이므로 사실상 Mini-batch SGD"
      ],
      "metadata": {
        "id": "ypS0TcOlvBhZ"
      },
      "execution_count": 20,
      "outputs": []
    },
    {
      "cell_type": "code",
      "source": [
        "# 모델의 정확도 계산하는 함수\n",
        "def accuracy(model, dataloader):\n",
        "  cnt = 0 # 전체 샘플 수\n",
        "  acc = 0  # 정확히 맞춘 개수\n",
        "\n",
        "  for data in dataloader:\n",
        "    inputs, labels = data\n",
        "    inputs, labels = inputs.to('cuda'), labels.to('cuda')\n",
        "\n",
        "    preds = model(inputs) # 모델 예측값 계산\n",
        "    preds = torch.argmax(preds, dim=-1) # 가장 높은 값의 인덱스를 예측값으로 설정\n",
        "\n",
        "    cnt += labels.shape[0] # 전체 샘플 개수 누적\n",
        "    acc += (labels == preds).sum().item()  # 정확히 맞춘 개수 누적\n",
        "\n",
        "  return acc / cnt"
      ],
      "metadata": {
        "id": "yQ3aArh7I5tX"
      },
      "execution_count": 21,
      "outputs": []
    },
    {
      "cell_type": "code",
      "source": [
        "n_epochs = 100 # 학습 반복 횟수\n",
        "loss_fn = nn.CrossEntropyLoss() # 손실 함수로 CrossEntropyLoss 사용 (다중 클래스 분류 문제)\n",
        "\n",
        "# 학습 및 테스트 데이터의 정확도 기록\n",
        "train_accs = []\n",
        "test_accs = []\n",
        "\n",
        "for epoch in range(n_epochs):\n",
        "  total_loss = 0.\n",
        "  for data in trainloader:\n",
        "    model.zero_grad() # 기존 기울기 초기화\n",
        "    inputs, labels = data\n",
        "    inputs, labels = inputs.to('cuda'), labels.to('cuda')\n",
        "\n",
        "    preds = model(inputs)\n",
        "    loss = loss_fn(preds, labels)   # 손실 계산\n",
        "    loss.backward() # 역전파 수행\n",
        "    optimizer.step() # 가중치 업데이트\n",
        "\n",
        "    total_loss += loss.item()  # 손실 값 누적\n",
        "\n",
        "  train_accs.append(accuracy(model, trainloader))\n",
        "  test_accs.append(accuracy(model, testloader))    #\n",
        "\n",
        "  print(f\"Epoch {epoch:3d} | Loss: {total_loss}\")"
      ],
      "metadata": {
        "colab": {
          "base_uri": "https://localhost:8080/"
        },
        "id": "TryX1hewvNiB",
        "outputId": "62909c5a-52ec-441d-bfb9-d9fab6df65ad"
      },
      "execution_count": 22,
      "outputs": [
        {
          "output_type": "stream",
          "name": "stdout",
          "text": [
            "Epoch   0 | Loss: 540.6690344810486\n",
            "Epoch   1 | Loss: 538.747504234314\n",
            "Epoch   2 | Loss: 536.4109442234039\n",
            "Epoch   3 | Loss: 533.5473980903625\n",
            "Epoch   4 | Loss: 530.4849457740784\n",
            "Epoch   5 | Loss: 527.1917209625244\n",
            "Epoch   6 | Loss: 523.4950227737427\n",
            "Epoch   7 | Loss: 519.3059797286987\n",
            "Epoch   8 | Loss: 514.659255027771\n",
            "Epoch   9 | Loss: 509.4341561794281\n",
            "Epoch  10 | Loss: 503.5902667045593\n",
            "Epoch  11 | Loss: 496.9775197505951\n",
            "Epoch  12 | Loss: 489.5431571006775\n",
            "Epoch  13 | Loss: 481.2024402618408\n",
            "Epoch  14 | Loss: 471.9169797897339\n",
            "Epoch  15 | Loss: 461.72681617736816\n",
            "Epoch  16 | Loss: 450.6479676961899\n",
            "Epoch  17 | Loss: 438.9453225135803\n",
            "Epoch  18 | Loss: 426.5840827226639\n",
            "Epoch  19 | Loss: 413.95496129989624\n",
            "Epoch  20 | Loss: 401.25150191783905\n",
            "Epoch  21 | Loss: 388.6385246515274\n",
            "Epoch  22 | Loss: 376.4335843324661\n",
            "Epoch  23 | Loss: 364.8566290140152\n",
            "Epoch  24 | Loss: 353.9199171066284\n",
            "Epoch  25 | Loss: 343.7301368713379\n",
            "Epoch  26 | Loss: 334.29510283470154\n",
            "Epoch  27 | Loss: 325.5006071329117\n",
            "Epoch  28 | Loss: 317.4139394760132\n",
            "Epoch  29 | Loss: 310.0037314891815\n",
            "Epoch  30 | Loss: 303.07108068466187\n",
            "Epoch  31 | Loss: 296.618913769722\n",
            "Epoch  32 | Loss: 290.6996992826462\n",
            "Epoch  33 | Loss: 285.00876927375793\n",
            "Epoch  34 | Loss: 279.78470051288605\n",
            "Epoch  35 | Loss: 274.80608731508255\n",
            "Epoch  36 | Loss: 270.2776089310646\n",
            "Epoch  37 | Loss: 265.95037031173706\n",
            "Epoch  38 | Loss: 261.70032024383545\n",
            "Epoch  39 | Loss: 257.9297366142273\n",
            "Epoch  40 | Loss: 254.33777558803558\n",
            "Epoch  41 | Loss: 250.81379330158234\n",
            "Epoch  42 | Loss: 247.46448332071304\n",
            "Epoch  43 | Loss: 244.64052736759186\n",
            "Epoch  44 | Loss: 241.49912530183792\n",
            "Epoch  45 | Loss: 238.85118198394775\n",
            "Epoch  46 | Loss: 236.14831405878067\n",
            "Epoch  47 | Loss: 233.65982103347778\n",
            "Epoch  48 | Loss: 231.40227431058884\n",
            "Epoch  49 | Loss: 229.06310242414474\n",
            "Epoch  50 | Loss: 226.8059806227684\n",
            "Epoch  51 | Loss: 224.76956045627594\n",
            "Epoch  52 | Loss: 222.81209325790405\n",
            "Epoch  53 | Loss: 220.90854954719543\n",
            "Epoch  54 | Loss: 219.1305529475212\n",
            "Epoch  55 | Loss: 217.40453058481216\n",
            "Epoch  56 | Loss: 215.85176557302475\n",
            "Epoch  57 | Loss: 214.38472467660904\n",
            "Epoch  58 | Loss: 212.57265555858612\n",
            "Epoch  59 | Loss: 211.19041520357132\n",
            "Epoch  60 | Loss: 209.92994183301926\n",
            "Epoch  61 | Loss: 208.68350952863693\n",
            "Epoch  62 | Loss: 207.32366734743118\n",
            "Epoch  63 | Loss: 206.14616876840591\n",
            "Epoch  64 | Loss: 204.97924095392227\n",
            "Epoch  65 | Loss: 203.81490749120712\n",
            "Epoch  66 | Loss: 202.69718021154404\n",
            "Epoch  67 | Loss: 201.67151200771332\n",
            "Epoch  68 | Loss: 200.66179209947586\n",
            "Epoch  69 | Loss: 199.73800945281982\n",
            "Epoch  70 | Loss: 198.76911240816116\n",
            "Epoch  71 | Loss: 197.9168956875801\n",
            "Epoch  72 | Loss: 197.09552192687988\n",
            "Epoch  73 | Loss: 196.08219063282013\n",
            "Epoch  74 | Loss: 195.28667759895325\n",
            "Epoch  75 | Loss: 194.55575174093246\n",
            "Epoch  76 | Loss: 193.87679636478424\n",
            "Epoch  77 | Loss: 193.0682765841484\n",
            "Epoch  78 | Loss: 192.31041264533997\n",
            "Epoch  79 | Loss: 191.64269119501114\n",
            "Epoch  80 | Loss: 191.0015950202942\n",
            "Epoch  81 | Loss: 190.3266674876213\n",
            "Epoch  82 | Loss: 189.60817807912827\n",
            "Epoch  83 | Loss: 189.03063189983368\n",
            "Epoch  84 | Loss: 188.54122364521027\n",
            "Epoch  85 | Loss: 187.85051387548447\n",
            "Epoch  86 | Loss: 187.32159507274628\n",
            "Epoch  87 | Loss: 186.91678887605667\n",
            "Epoch  88 | Loss: 186.25821143388748\n",
            "Epoch  89 | Loss: 185.76653480529785\n",
            "Epoch  90 | Loss: 185.36830937862396\n",
            "Epoch  91 | Loss: 184.84247392416\n",
            "Epoch  92 | Loss: 184.2977038025856\n",
            "Epoch  93 | Loss: 183.78492909669876\n",
            "Epoch  94 | Loss: 183.4665333032608\n",
            "Epoch  95 | Loss: 183.00311315059662\n",
            "Epoch  96 | Loss: 182.53433400392532\n",
            "Epoch  97 | Loss: 182.14618849754333\n",
            "Epoch  98 | Loss: 181.79360419511795\n",
            "Epoch  99 | Loss: 181.38892620801926\n"
          ]
        }
      ]
    },
    {
      "cell_type": "code",
      "source": [
        "import numpy as np\n",
        "\n",
        "# 학습 및 테스트 정확도를 시각화하는 함수\n",
        "def plot_acc(train_accs, test_accs, label1='train', label2='test'):\n",
        "  x = np.arange(len(train_accs))\n",
        "\n",
        "  plt.plot(x, train_accs, label=label1) # 학습 데이터 정확도 그래프\n",
        "  plt.plot(x, test_accs, label=label2) # 테스트 데이터 정확도 그래프\n",
        "  plt.legend()\n",
        "  plt.show()"
      ],
      "metadata": {
        "id": "CMdFdTmSK73N"
      },
      "execution_count": 23,
      "outputs": []
    },
    {
      "cell_type": "code",
      "source": [
        "plot_acc(train_accs, test_accs)"
      ],
      "metadata": {
        "id": "sJHaBiskGaUd",
        "colab": {
          "base_uri": "https://localhost:8080/",
          "height": 430
        },
        "outputId": "88e68214-a908-485f-eccd-ded0de71fb21"
      },
      "execution_count": 24,
      "outputs": [
        {
          "output_type": "display_data",
          "data": {
            "text/plain": [
              "<Figure size 640x480 with 1 Axes>"
            ],
            "image/png": "[encoded data removed]"
          },
          "metadata": {}
        }
      ]
    },
    {
      "cell_type": "code",
      "source": [
        "idx = 1\n",
        "\n",
        "x = trainset[idx][0][None]  # (1, 1, 28, 28)\n",
        "x = x.to('cuda')\n",
        "\n",
        "output = model(x)\n",
        "predicted_label = torch.argmax(output, dim=1).item()  # 가장 높은 확률의 인덱스 (예측된 숫자)\n",
        "\n",
        "# 실제 정답 라벨\n",
        "true_label = trainset[idx][1]\n",
        "\n",
        "# 출력\n",
        "print(f\"모델 예측값: {predicted_label}\")\n",
        "print(f\"실제 정답: {true_label}\")\n",
        "print(f\"출력된 확률 분포: {output.softmax(dim=1).cpu().detach().numpy()}\")"
      ],
      "metadata": {
        "id": "Zct0ssSKwjt1",
        "colab": {
          "base_uri": "https://localhost:8080/"
        },
        "outputId": "43663189-ad5c-4a5b-9c77-e7d9d3172e3d"
      },
      "execution_count": 25,
      "outputs": [
        {
          "output_type": "stream",
          "name": "stdout",
          "text": [
            "모델 예측값: 0\n",
            "실제 정답: 0\n",
            "출력된 확률 분포: [[9.924349e-01 8.405578e-04 8.405578e-04 8.405578e-04 8.405578e-04\n",
            "  8.405578e-04 8.405578e-04 8.405578e-04 8.405578e-04 8.405578e-04]]\n"
          ]
        }
      ]
    }
  ]
}