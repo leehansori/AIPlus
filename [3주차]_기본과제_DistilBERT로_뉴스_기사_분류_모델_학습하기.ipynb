{
	"cells": [
		{
			"cell_type": "markdown",
			"metadata": {
				"id": "view-in-github",
				"colab_type": "text"
			},
			"source": [
				"<a href=\"https://colab.research.google.com/github/leehansori/AIPlus/blob/main/%5B3%EC%A3%BC%EC%B0%A8%5D_%EA%B8%B0%EB%B3%B8%EA%B3%BC%EC%A0%9C_DistilBERT%EB%A1%9C_%EB%89%B4%EC%8A%A4_%EA%B8%B0%EC%82%AC_%EB%B6%84%EB%A5%98_%EB%AA%A8%EB%8D%B8_%ED%95%99%EC%8A%B5%ED%95%98%EA%B8%B0.ipynb\" target=\"_parent\"><img src=\"https://colab.research.google.com/assets/colab-badge.svg\" alt=\"Open In Colab\"/></a>"
			]
		},
		{
			"cell_type": "markdown",
			"source": [
				"# [3주차]_기본과제 - DistilBERT로 뉴스 기사 분류 모델 학습하기"
			],
			"metadata": {
				"id": "1Z8U8TcvnYSO"
			}
		},
		{
			"cell_type": "code",
			"execution_count": null,
			"metadata": {
				"colab": {
					"base_uri": "https://localhost:8080/"
				},
				"id": "1LqgujQUbv6X",
				"outputId": "62cb741d-993b-4153-9afc-3a13a046fde3",
				"collapsed": true
			},
			"outputs": [
				{
					"output_type": "stream",
					"name": "stdout",
					"text": [
						"Requirement already satisfied: tqdm in /usr/local/lib/python3.11/dist-packages (4.67.1)\n",
						"Collecting boto3\n",
						"  Downloading boto3-1.37.31-py3-none-any.whl.metadata (6.7 kB)\n",
						"Requirement already satisfied: requests in /usr/local/lib/python3.11/dist-packages (2.32.3)\n",
						"Requirement already satisfied: regex in /usr/local/lib/python3.11/dist-packages (2024.11.6)\n",
						"Requirement already satisfied: sentencepiece in /usr/local/lib/python3.11/dist-packages (0.2.0)\n",
						"Collecting sacremoses\n",
						"  Downloading sacremoses-0.1.1-py3-none-any.whl.metadata (8.3 kB)\n",
						"Collecting datasets\n",
						"  Downloading datasets-3.5.0-py3-none-any.whl.metadata (19 kB)\n",
						"Collecting botocore<1.38.0,>=1.37.31 (from boto3)\n",
						"  Downloading botocore-1.37.31-py3-none-any.whl.metadata (5.7 kB)\n",
						"Collecting jmespath<2.0.0,>=0.7.1 (from boto3)\n",
						"  Downloading jmespath-1.0.1-py3-none-any.whl.metadata (7.6 kB)\n",
						"Collecting s3transfer<0.12.0,>=0.11.0 (from boto3)\n",
						"  Downloading s3transfer-0.11.4-py3-none-any.whl.metadata (1.7 kB)\n",
						"Requirement already satisfied: charset-normalizer<4,>=2 in /usr/local/lib/python3.11/dist-packages (from requests) (3.4.1)\n",
						"Requirement already satisfied: idna<4,>=2.5 in /usr/local/lib/python3.11/dist-packages (from requests) (3.10)\n",
						"Requirement already satisfied: urllib3<3,>=1.21.1 in /usr/local/lib/python3.11/dist-packages (from requests) (2.3.0)\n",
						"Requirement already satisfied: certifi>=2017.4.17 in /usr/local/lib/python3.11/dist-packages (from requests) (2025.1.31)\n",
						"Requirement already satisfied: click in /usr/local/lib/python3.11/dist-packages (from sacremoses) (8.1.8)\n",
						"Requirement already satisfied: joblib in /usr/local/lib/python3.11/dist-packages (from sacremoses) (1.4.2)\n",
						"Requirement already satisfied: filelock in /usr/local/lib/python3.11/dist-packages (from datasets) (3.18.0)\n",
						"Requirement already satisfied: numpy>=1.17 in /usr/local/lib/python3.11/dist-packages (from datasets) (2.0.2)\n",
						"Requirement already satisfied: pyarrow>=15.0.0 in /usr/local/lib/python3.11/dist-packages (from datasets) (18.1.0)\n",
						"Collecting dill<0.3.9,>=0.3.0 (from datasets)\n",
						"  Downloading dill-0.3.8-py3-none-any.whl.metadata (10 kB)\n",
						"Requirement already satisfied: pandas in /usr/local/lib/python3.11/dist-packages (from datasets) (2.2.2)\n",
						"Collecting xxhash (from datasets)\n",
						"  Downloading xxhash-3.5.0-cp311-cp311-manylinux_2_17_x86_64.manylinux2014_x86_64.whl.metadata (12 kB)\n",
						"Collecting multiprocess<0.70.17 (from datasets)\n",
						"  Downloading multiprocess-0.70.16-py311-none-any.whl.metadata (7.2 kB)\n",
						"Collecting fsspec<=2024.12.0,>=2023.1.0 (from fsspec[http]<=2024.12.0,>=2023.1.0->datasets)\n",
						"  Downloading fsspec-2024.12.0-py3-none-any.whl.metadata (11 kB)\n",
						"Requirement already satisfied: aiohttp in /usr/local/lib/python3.11/dist-packages (from datasets) (3.11.15)\n",
						"Requirement already satisfied: huggingface-hub>=0.24.0 in /usr/local/lib/python3.11/dist-packages (from datasets) (0.30.1)\n",
						"Requirement already satisfied: packaging in /usr/local/lib/python3.11/dist-packages (from datasets) (24.2)\n",
						"Requirement already satisfied: pyyaml>=5.1 in /usr/local/lib/python3.11/dist-packages (from datasets) (6.0.2)\n",
						"Requirement already satisfied: python-dateutil<3.0.0,>=2.1 in /usr/local/lib/python3.11/dist-packages (from botocore<1.38.0,>=1.37.31->boto3) (2.8.2)\n",
						"Requirement already satisfied: aiohappyeyeballs>=2.3.0 in /usr/local/lib/python3.11/dist-packages (from aiohttp->datasets) (2.6.1)\n",
						"Requirement already satisfied: aiosignal>=1.1.2 in /usr/local/lib/python3.11/dist-packages (from aiohttp->datasets) (1.3.2)\n",
						"Requirement already satisfied: attrs>=17.3.0 in /usr/local/lib/python3.11/dist-packages (from aiohttp->datasets) (25.3.0)\n",
						"Requirement already satisfied: frozenlist>=1.1.1 in /usr/local/lib/python3.11/dist-packages (from aiohttp->datasets) (1.5.0)\n",
						"Requirement already satisfied: multidict<7.0,>=4.5 in /usr/local/lib/python3.11/dist-packages (from aiohttp->datasets) (6.2.0)\n",
						"Requirement already satisfied: propcache>=0.2.0 in /usr/local/lib/python3.11/dist-packages (from aiohttp->datasets) (0.3.1)\n",
						"Requirement already satisfied: yarl<2.0,>=1.17.0 in /usr/local/lib/python3.11/dist-packages (from aiohttp->datasets) (1.18.3)\n",
						"Requirement already satisfied: typing-extensions>=3.7.4.3 in /usr/local/lib/python3.11/dist-packages (from huggingface-hub>=0.24.0->datasets) (4.13.1)\n",
						"Requirement already satisfied: pytz>=2020.1 in /usr/local/lib/python3.11/dist-packages (from pandas->datasets) (2025.2)\n",
						"Requirement already satisfied: tzdata>=2022.7 in /usr/local/lib/python3.11/dist-packages (from pandas->datasets) (2025.2)\n",
						"Requirement already satisfied: six>=1.5 in /usr/local/lib/python3.11/dist-packages (from python-dateutil<3.0.0,>=2.1->botocore<1.38.0,>=1.37.31->boto3) (1.17.0)\n",
						"Downloading boto3-1.37.31-py3-none-any.whl (139 kB)\n",
						"\u001B[2K   \u001B[90m━━━━━━━━━━━━━━━━━━━━━━━━━━━━━━━━━━━━━━━━\u001B[0m \u001B[32m139.6/139.6 kB\u001B[0m \u001B[31m1.5 MB/s\u001B[0m eta \u001B[36m0:00:00\u001B[0m\n",
						"\u001B[?25hDownloading sacremoses-0.1.1-py3-none-any.whl (897 kB)\n",
						"\u001B[2K   \u001B[90m━━━━━━━━━━━━━━━━━━━━━━━━━━━━━━━━━━━━━━━━\u001B[0m \u001B[32m897.5/897.5 kB\u001B[0m \u001B[31m24.4 MB/s\u001B[0m eta \u001B[36m0:00:00\u001B[0m\n",
						"\u001B[?25hDownloading datasets-3.5.0-py3-none-any.whl (491 kB)\n",
						"\u001B[2K   \u001B[90m━━━━━━━━━━━━━━━━━━━━━━━━━━━━━━━━━━━━━━━━\u001B[0m \u001B[32m491.2/491.2 kB\u001B[0m \u001B[31m33.4 MB/s\u001B[0m eta \u001B[36m0:00:00\u001B[0m\n",
						"\u001B[?25hDownloading botocore-1.37.31-py3-none-any.whl (13.5 MB)\n",
						"\u001B[2K   \u001B[90m━━━━━━━━━━━━━━━━━━━━━━━━━━━━━━━━━━━━━━━━\u001B[0m \u001B[32m13.5/13.5 MB\u001B[0m \u001B[31m66.5 MB/s\u001B[0m eta \u001B[36m0:00:00\u001B[0m\n",
						"\u001B[?25hDownloading dill-0.3.8-py3-none-any.whl (116 kB)\n",
						"\u001B[2K   \u001B[90m━━━━━━━━━━━━━━━━━━━━━━━━━━━━━━━━━━━━━━━━\u001B[0m \u001B[32m116.3/116.3 kB\u001B[0m \u001B[31m7.8 MB/s\u001B[0m eta \u001B[36m0:00:00\u001B[0m\n",
						"\u001B[?25hDownloading fsspec-2024.12.0-py3-none-any.whl (183 kB)\n",
						"\u001B[2K   \u001B[90m━━━━━━━━━━━━━━━━━━━━━━━━━━━━━━━━━━━━━━━━\u001B[0m \u001B[32m183.9/183.9 kB\u001B[0m \u001B[31m13.1 MB/s\u001B[0m eta \u001B[36m0:00:00\u001B[0m\n",
						"\u001B[?25hDownloading jmespath-1.0.1-py3-none-any.whl (20 kB)\n",
						"Downloading multiprocess-0.70.16-py311-none-any.whl (143 kB)\n",
						"\u001B[2K   \u001B[90m━━━━━━━━━━━━━━━━━━━━━━━━━━━━━━━━━━━━━━━━\u001B[0m \u001B[32m143.5/143.5 kB\u001B[0m \u001B[31m10.4 MB/s\u001B[0m eta \u001B[36m0:00:00\u001B[0m\n",
						"\u001B[?25hDownloading s3transfer-0.11.4-py3-none-any.whl (84 kB)\n",
						"\u001B[2K   \u001B[90m━━━━━━━━━━━━━━━━━━━━━━━━━━━━━━━━━━━━━━━━\u001B[0m \u001B[32m84.4/84.4 kB\u001B[0m \u001B[31m5.5 MB/s\u001B[0m eta \u001B[36m0:00:00\u001B[0m\n",
						"\u001B[?25hDownloading xxhash-3.5.0-cp311-cp311-manylinux_2_17_x86_64.manylinux2014_x86_64.whl (194 kB)\n",
						"\u001B[2K   \u001B[90m━━━━━━━━━━━━━━━━━━━━━━━━━━━━━━━━━━━━━━━━\u001B[0m \u001B[32m194.8/194.8 kB\u001B[0m \u001B[31m13.1 MB/s\u001B[0m eta \u001B[36m0:00:00\u001B[0m\n",
						"\u001B[?25hInstalling collected packages: xxhash, sacremoses, jmespath, fsspec, dill, multiprocess, botocore, s3transfer, datasets, boto3\n",
						"  Attempting uninstall: fsspec\n",
						"    Found existing installation: fsspec 2025.3.2\n",
						"    Uninstalling fsspec-2025.3.2:\n",
						"      Successfully uninstalled fsspec-2025.3.2\n",
						"\u001B[31mERROR: pip's dependency resolver does not currently take into account all the packages that are installed. This behaviour is the source of the following dependency conflicts.\n",
						"torch 2.6.0+cu124 requires nvidia-cublas-cu12==12.4.5.8; platform_system == \"Linux\" and platform_machine == \"x86_64\", but you have nvidia-cublas-cu12 12.5.3.2 which is incompatible.\n",
						"torch 2.6.0+cu124 requires nvidia-cuda-cupti-cu12==12.4.127; platform_system == \"Linux\" and platform_machine == \"x86_64\", but you have nvidia-cuda-cupti-cu12 12.5.82 which is incompatible.\n",
						"torch 2.6.0+cu124 requires nvidia-cuda-nvrtc-cu12==12.4.127; platform_system == \"Linux\" and platform_machine == \"x86_64\", but you have nvidia-cuda-nvrtc-cu12 12.5.82 which is incompatible.\n",
						"torch 2.6.0+cu124 requires nvidia-cuda-runtime-cu12==12.4.127; platform_system == \"Linux\" and platform_machine == \"x86_64\", but you have nvidia-cuda-runtime-cu12 12.5.82 which is incompatible.\n",
						"torch 2.6.0+cu124 requires nvidia-cudnn-cu12==9.1.0.70; platform_system == \"Linux\" and platform_machine == \"x86_64\", but you have nvidia-cudnn-cu12 9.3.0.75 which is incompatible.\n",
						"torch 2.6.0+cu124 requires nvidia-cufft-cu12==11.2.1.3; platform_system == \"Linux\" and platform_machine == \"x86_64\", but you have nvidia-cufft-cu12 11.2.3.61 which is incompatible.\n",
						"torch 2.6.0+cu124 requires nvidia-curand-cu12==10.3.5.147; platform_system == \"Linux\" and platform_machine == \"x86_64\", but you have nvidia-curand-cu12 10.3.6.82 which is incompatible.\n",
						"torch 2.6.0+cu124 requires nvidia-cusolver-cu12==11.6.1.9; platform_system == \"Linux\" and platform_machine == \"x86_64\", but you have nvidia-cusolver-cu12 11.6.3.83 which is incompatible.\n",
						"torch 2.6.0+cu124 requires nvidia-cusparse-cu12==12.3.1.170; platform_system == \"Linux\" and platform_machine == \"x86_64\", but you have nvidia-cusparse-cu12 12.5.1.3 which is incompatible.\n",
						"torch 2.6.0+cu124 requires nvidia-nvjitlink-cu12==12.4.127; platform_system == \"Linux\" and platform_machine == \"x86_64\", but you have nvidia-nvjitlink-cu12 12.5.82 which is incompatible.\n",
						"gcsfs 2025.3.2 requires fsspec==2025.3.2, but you have fsspec 2024.12.0 which is incompatible.\u001B[0m\u001B[31m\n",
						"\u001B[0mSuccessfully installed boto3-1.37.31 botocore-1.37.31 datasets-3.5.0 dill-0.3.8 fsspec-2024.12.0 jmespath-1.0.1 multiprocess-0.70.16 s3transfer-0.11.4 sacremoses-0.1.1 xxhash-3.5.0\n"
					]
				}
			],
			"source": [
				"!pip install tqdm boto3 requests regex sentencepiece sacremoses datasets"
			]
		},
		{
			"cell_type": "code",
			"execution_count": null,
			"metadata": {
				"colab": {
					"base_uri": "https://localhost:8080/",
					"height": 330,
					"referenced_widgets": [
						"f5157cd753fd4039b175992c00cd94f1",
						"25397b30ca3a4a1fa42f95d0b191b71f",
						"8675133e9db3415dac7a0bcbef8fc6d1",
						"ace92f1087094a11828cdfd04572958c",
						"7b6fbe25a08c4b5dad6aadfe437b88bf",
						"b8ee3ea31248414cb0f2a002457bd5de",
						"3b4c4a7a194f4d53b93d94ec72c4e7d0",
						"d8c5f1756cd44f708467943cde8a20e9",
						"8192edd9ceff45d69b5b500c43ec8516",
						"cffcea79bada40028380951d4a8a5174",
						"c9bf5d7ea5424999b709e51fc8e152a1",
						"90bb175900da4e75b0e4faaea8e22d03",
						"b52ccc94a9694f3bae096602121ae6fa",
						"e868b420ba434d7b9d93238b8026c0eb",
						"a8d21c11c5a147dcb46e6d00c63677c4",
						"bcf9fb6dcabc48ee8f2b1a05d9af6dc8",
						"11543355d01f46729836c030bf36c527",
						"a8d9234d832848fb92e42e30e35e5109",
						"ec42901ee7ac4914a4770c47968db733",
						"655e69084c2d4874b325e8ee7dde7aef",
						"0a181fd5200141a5baed08128a3f9426",
						"d4a012cf7a0244d69d274ec976118a68",
						"db6ad409b0be492ebea799960021c449",
						"5b510d3d4b52444f84b342bc92a2e6a9",
						"04731c0546c7453582b734ec9aacb44e",
						"b36bcb42416b41fa9930b413c4fed20b",
						"9ed99d7771a94e81835c1d41f3d1cf16",
						"362108d8bf0441d490f5a29888418f67",
						"20348b2023ec4a488c2838d63b74c326",
						"42f16874575f4303b4b06f4a143d69a5",
						"b78223428e03465f8fcafb40fb9c1c38",
						"748b1f352b584680a5167a7293acd7f4",
						"516d0d1350544fb88cf81f8958287dea",
						"2ba5f2e4be9148d88d6a22f02f2fdb64",
						"ccb9825edb704548b7091267adfeb294",
						"1adb813bba1b479a8a756958466a15dc",
						"55fd5c9d56e7478b8fc6eda317e18d92",
						"fd605033833d494b813e9dd66faa50ca",
						"f9cad2e6b5a64a1fa7659b1adbcbdb7a",
						"e9bea92b03d14c53ae83c418265bf584",
						"84c31fd429b54a7e9506e1dd20c7a30c",
						"87e4687e27284165b860d20f032c1b87",
						"af9e0fef256e4ca0ba30f72bb653b1f6",
						"9a9df7f4dabc4d40a70a03ffc4b3a363"
					]
				},
				"id": "6lGiZUoPby6e",
				"outputId": "05fbc44d-b3c4-4aac-9d26-4d08d2b94ceb",
				"collapsed": true
			},
			"outputs": [
				{
					"output_type": "stream",
					"name": "stderr",
					"text": [
						"/usr/local/lib/python3.11/dist-packages/torch/hub.py:330: UserWarning: You are about to download and run code from an untrusted repository. In a future release, this won't be allowed. To add the repository to your trusted list, change the command to {calling_fn}(..., trust_repo=False) and a command prompt will appear asking for an explicit confirmation of trust, or load(..., trust_repo=True), which will assume that the prompt is to be answered with 'yes'. You can also use load(..., trust_repo='check') which will only prompt for confirmation if the repo is not already trusted. This will eventually be the default behaviour\n",
						"  warnings.warn(\n",
						"Downloading: \"https://github.com/huggingface/pytorch-transformers/zipball/main\" to /root/.cache/torch/hub/main.zip\n",
						"/usr/local/lib/python3.11/dist-packages/huggingface_hub/utils/_auth.py:94: UserWarning: \n",
						"The secret `HF_TOKEN` does not exist in your Colab secrets.\n",
						"To authenticate with the Hugging Face Hub, create a token in your settings tab (https://huggingface.co/settings/tokens), set it as secret in your Google Colab and restart your session.\n",
						"You will be able to reuse this secret in all of your notebooks.\n",
						"Please note that authentication is recommended but still optional to access public models or datasets.\n",
						"  warnings.warn(\n"
					]
				},
				{
					"output_type": "display_data",
					"data": {
						"text/plain": [
							"tokenizer_config.json:   0%|          | 0.00/48.0 [00:00<?, ?B/s]"
						],
						"application/vnd.jupyter.widget-view+json": {
							"version_major": 2,
							"version_minor": 0,
							"model_id": "f5157cd753fd4039b175992c00cd94f1"
						}
					},
					"metadata": {}
				},
				{
					"output_type": "display_data",
					"data": {
						"text/plain": [
							"config.json:   0%|          | 0.00/483 [00:00<?, ?B/s]"
						],
						"application/vnd.jupyter.widget-view+json": {
							"version_major": 2,
							"version_minor": 0,
							"model_id": "90bb175900da4e75b0e4faaea8e22d03"
						}
					},
					"metadata": {}
				},
				{
					"output_type": "display_data",
					"data": {
						"text/plain": [
							"vocab.txt:   0%|          | 0.00/232k [00:00<?, ?B/s]"
						],
						"application/vnd.jupyter.widget-view+json": {
							"version_major": 2,
							"version_minor": 0,
							"model_id": "db6ad409b0be492ebea799960021c449"
						}
					},
					"metadata": {}
				},
				{
					"output_type": "display_data",
					"data": {
						"text/plain": [
							"tokenizer.json:   0%|          | 0.00/466k [00:00<?, ?B/s]"
						],
						"application/vnd.jupyter.widget-view+json": {
							"version_major": 2,
							"version_minor": 0,
							"model_id": "2ba5f2e4be9148d88d6a22f02f2fdb64"
						}
					},
					"metadata": {}
				}
			],
			"source": [
				"import torch\n",
				"from datasets import load_dataset\n",
				"from torch.utils.data import DataLoader\n",
				"\n",
				"# distilBERT 토크나이저 로드\n",
				"tokenizer = torch.hub.load('huggingface/pytorch-transformers', 'tokenizer', 'distilbert-base-uncased')"
			]
		},
		{
			"cell_type": "code",
			"source": [
				"# AG News 데이터셋의 일부(5%)를 학습용(train)과 테스트용(test)으로 각각 로드\n",
				"train_ds = load_dataset(\"fancyzhx/ag_news\", split=\"train[:5%]\")\n",
				"test_ds = load_dataset(\"fancyzhx/ag_news\", split=\"test[:5%]\")\n",
				"\n",
				"\n",
				"# 배치 단위의 데이터를 모델에 넣기 위한 텐서 형식으로 변환\n",
				"def collate_fn(batch):\n",
				"  texts, labels = [], []  # 텍스트와 라벨을 담을 리스트 초기화\n",
				"  for row in batch:\n",
				"    labels.append(row['label'])  # 각 샘플의 라벨 수집\n",
				"    texts.append(row['text'])  # 각 샘플의 텍스트 수집\n",
				"\n",
				"  texts = torch.LongTensor(tokenizer(texts, padding=True).input_ids)  # 텍스트 데이터를 토크나이징하고 padding을 적용하여 텐서로 변환\n",
				"  labels = torch.LongTensor(labels)  # 라벨 리스트를 텐서로 변환\n",
				"\n",
				"  return texts, labels\n",
				"\n",
				"# 학습용 DataLoader 생성. 배치 크기 64, 셔플 활성화\n",
				"train_loader = DataLoader(\n",
				"    train_ds, batch_size=64, shuffle=True, collate_fn=collate_fn\n",
				")\n",
				"\n",
				"# 테스트용 DataLoader 생성. 배치 크기 64, 셔플 비활성화\n",
				"test_loader = DataLoader(\n",
				"    test_ds, batch_size=64, shuffle=False, collate_fn=collate_fn\n",
				")"
			],
			"metadata": {
				"id": "rE-y8sY9HuwP",
				"colab": {
					"base_uri": "https://localhost:8080/",
					"height": 177,
					"referenced_widgets": [
						"f945ce331dc84e388270efe8788d9e1e",
						"fdc3d308c2374f438b8a0d5c7e8bb5cc",
						"f4f4e07e20f94f32bc4bfd5c62778f6f",
						"ce3ebcda4ee94533be08263be3f661d9",
						"38ec4fe30e1d48b5888bdd48b333f92d",
						"a31c7282bb8d4005938b9255dcbb93d5",
						"f0365fd3f8cb449690df5e2779ebff5b",
						"a6acfdd3e6ea40d38ff5c24172e58857",
						"985fc96c5e6848e9b9d04bda1c2ecec7",
						"8f6353522efb4067801fd1fe0fc654a9",
						"7ff5d3f1ab594bf9a003b210ca5929be",
						"cf525cacfe974698b530e720ae38ab29",
						"4b04f14ba04c4ba981acf1574b954dcb",
						"cc5a4cf35a674be2b6d736189ed6cfb7",
						"decfd1175c8148e484ded1f90d46adc3",
						"4693054c023f4fd7836fdd11c46099c1",
						"53a6dca37a5645f3adef58453a531682",
						"79533956355a4562ad65d68a936d7cd9",
						"36cb23edcec04a8586f6771933e8ee6e",
						"31c4dcb7469d40df875c6a820d74b6e6",
						"bd74a2b93abc4b179803f48e2e9c1a57",
						"efd1bed72a9d4aeca0a1c017c0c7a97e",
						"bcd6b425b172440490f8374a1f3e4cf6",
						"aa55f7cb990b4143872c67b944ceb503",
						"b0da9e0226db41ee8a5181e675d7d131",
						"b8fefa0071874d6ab0ca13f81a35d951",
						"b7604d5089c7477d8625c169622fd588",
						"88485bd8e9d04e47913b14766a46a262",
						"2d6fe88fc91c4aa8ab2d8d7575288f07",
						"9a7e6fcf1a624aceac3d11f1b455d442",
						"592ed8a064994fd6a9f481cf84c48fe7",
						"3d2b57c6035c48cc84fb47f646084570",
						"2610d5b3e553471cb5f66c8607845e57",
						"b132827eb23a41d68674d9a8e362bd55",
						"2526cf20f4ed4794bddc4b93efc38870",
						"2ca7f1b4350945b4abdfafb4e368f0d9",
						"6db26c8b7d43468e8e4926603f28f3a6",
						"e49392501b96406c8d018cf98059e7af",
						"ea8c580a89b84e459c0b0212412dd0dd",
						"d41186f8dae34f3ea5d9eb849b783478",
						"04fccd61da7c41eb92bbcc0e9b6abcfb",
						"dbfad9f603b34ba38e7a47e36483859a",
						"b35727b15d18435a85cc069d539186c2",
						"42549efc4a15476595502eeb9e7fc685",
						"a6eb5af7169c4d7c9ca724dce9b2a656",
						"64c122f6e1a64acb8da6b476b1a1db84",
						"cf24a28423244ef28f8bad024f5404c8",
						"16354d324add472c85f6efb3f86d5657",
						"3f61a8719e02493884c186db585b2d68",
						"4fb974eb6f2a40a18a3127ae61f460dd",
						"e4d2807a14b94f2d84dff1d41c0d3102",
						"2dcd2d564b384b4b822bc29474facf5c",
						"c510af93a80648b7a76e1130ceeca126",
						"e881019872c44675a73284dac60e9da9",
						"2f9b3157628c453c981052d7a2bb2a24"
					]
				},
				"outputId": "c622b7ad-cdfe-4154-df99-ff4a6fc15b76"
			},
			"execution_count": null,
			"outputs": [
				{
					"output_type": "display_data",
					"data": {
						"text/plain": [
							"README.md:   0%|          | 0.00/8.07k [00:00<?, ?B/s]"
						],
						"application/vnd.jupyter.widget-view+json": {
							"version_major": 2,
							"version_minor": 0,
							"model_id": "f945ce331dc84e388270efe8788d9e1e"
						}
					},
					"metadata": {}
				},
				{
					"output_type": "display_data",
					"data": {
						"text/plain": [
							"train-00000-of-00001.parquet:   0%|          | 0.00/18.6M [00:00<?, ?B/s]"
						],
						"application/vnd.jupyter.widget-view+json": {
							"version_major": 2,
							"version_minor": 0,
							"model_id": "cf525cacfe974698b530e720ae38ab29"
						}
					},
					"metadata": {}
				},
				{
					"output_type": "display_data",
					"data": {
						"text/plain": [
							"test-00000-of-00001.parquet:   0%|          | 0.00/1.23M [00:00<?, ?B/s]"
						],
						"application/vnd.jupyter.widget-view+json": {
							"version_major": 2,
							"version_minor": 0,
							"model_id": "bcd6b425b172440490f8374a1f3e4cf6"
						}
					},
					"metadata": {}
				},
				{
					"output_type": "display_data",
					"data": {
						"text/plain": [
							"Generating train split:   0%|          | 0/120000 [00:00<?, ? examples/s]"
						],
						"application/vnd.jupyter.widget-view+json": {
							"version_major": 2,
							"version_minor": 0,
							"model_id": "b132827eb23a41d68674d9a8e362bd55"
						}
					},
					"metadata": {}
				},
				{
					"output_type": "display_data",
					"data": {
						"text/plain": [
							"Generating test split:   0%|          | 0/7600 [00:00<?, ? examples/s]"
						],
						"application/vnd.jupyter.widget-view+json": {
							"version_major": 2,
							"version_minor": 0,
							"model_id": "a6eb5af7169c4d7c9ca724dce9b2a656"
						}
					},
					"metadata": {}
				}
			]
		},
		{
			"cell_type": "code",
			"execution_count": null,
			"metadata": {
				"colab": {
					"base_uri": "https://localhost:8080/",
					"height": 124,
					"referenced_widgets": [
						"92772f7ebfb8415292b6befc56540fe7",
						"8ecaea22394a494db27a6e0228025390",
						"bf8be937ea68439bb84fbfdd7404bf8c",
						"53aeff5ec66246ec83ecd8fa2233bf4d",
						"db76b6cf91664b23b1ab80ddb5e134e1",
						"0601a00faad24529af35a06ad23de225",
						"d4120b27d1634f71a7fa22d53a06ac7d",
						"4a4dc0288efe401680a12fd97b9480ba",
						"57110dc2b25e4c8e9042d74c268ef5a9",
						"5b53e340c3ac4af8902b9bee9fab00c3",
						"911b685e11da4e52ac370cc1c1ade035"
					]
				},
				"id": "xW7ETZQzzNp2",
				"outputId": "a6c3d573-7f6c-438d-af7b-a8c48447114d"
			},
			"outputs": [
				{
					"output_type": "stream",
					"name": "stderr",
					"text": [
						"Using cache found in /root/.cache/torch/hub/huggingface_pytorch-transformers_main\n",
						"Xet Storage is enabled for this repo, but the 'hf_xet' package is not installed. Falling back to regular HTTP download. For better performance, install the package with: `pip install huggingface_hub[hf_xet]` or `pip install hf_xet`\n",
						"WARNING:huggingface_hub.file_download:Xet Storage is enabled for this repo, but the 'hf_xet' package is not installed. Falling back to regular HTTP download. For better performance, install the package with: `pip install huggingface_hub[hf_xet]` or `pip install hf_xet`\n"
					]
				},
				{
					"output_type": "display_data",
					"data": {
						"text/plain": [
							"model.safetensors:   0%|          | 0.00/268M [00:00<?, ?B/s]"
						],
						"application/vnd.jupyter.widget-view+json": {
							"version_major": 2,
							"version_minor": 0,
							"model_id": "92772f7ebfb8415292b6befc56540fe7"
						}
					},
					"metadata": {}
				}
			],
			"source": [
				"from torch import nn\n",
				"\n",
				"# 텍스트 분류 모델\n",
				"class TextClassifier(nn.Module):\n",
				"  def __init__(self):\n",
				"    super().__init__()\n",
				"\n",
				"    # DistilBERT 사전학습 모델 로드 (인코더 역할)\n",
				"    self.encoder = torch.hub.load('huggingface/pytorch-transformers', 'model', 'distilbert-base-uncased')\n",
				"    # ★ 출력 차원 조정. AG 뉴스는 4개 클래스. 마지막 은닉 상태를 받아 분류하는 Linear layer.\n",
				"    self.classifier = nn.Linear(768, 4)\n",
				"\n",
				"  def forward(self, x):\n",
				"    # 인코더에 입력 x를 전달하고, 마지막 은닉 상태만 추출\n",
				"    x = self.encoder(x)['last_hidden_state']\n",
				"    # 첫 번째 토큰([CLS])의 벡터를 분류기에 통과\n",
				"    x = self.classifier(x[:, 0])\n",
				"\n",
				"    return x\n",
				"\n",
				"\n",
				"model = TextClassifier()"
			]
		},
		{
			"cell_type": "code",
			"execution_count": null,
			"metadata": {
				"id": "uyTciaPZ0KYo"
			},
			"outputs": [],
			"source": [
				"# 인코더 파라미터 고정 (fine-tuning 하지 않음)\n",
				"for param in model.encoder.parameters():\n",
				"  param.requires_grad = False"
			]
		},
		{
			"cell_type": "code",
			"execution_count": null,
			"metadata": {
				"colab": {
					"base_uri": "https://localhost:8080/"
				},
				"id": "XvvaAEwCznt-",
				"outputId": "bde8b38e-eb36-446f-d2a1-687f3fa108c7"
			},
			"outputs": [
				{
					"output_type": "stream",
					"name": "stdout",
					"text": [
						"Epoch   0 | Train Loss: 49.4038348197937\n",
						"Epoch   1 | Train Loss: 47.11474296450615\n",
						"Epoch   2 | Train Loss: 46.39976990222931\n",
						"Epoch   3 | Train Loss: 45.920212268829346\n",
						"Epoch   4 | Train Loss: 44.047613725066185\n",
						"Epoch   5 | Train Loss: 43.02534405887127\n",
						"Epoch   6 | Train Loss: 42.927275851368904\n",
						"Epoch   7 | Train Loss: 42.80124670267105\n",
						"Epoch   8 | Train Loss: 41.97383214533329\n",
						"Epoch   9 | Train Loss: 41.80554614961147\n"
					]
				}
			],
			"source": [
				"from torch.optim import Adam\n",
				"import numpy as np\n",
				"import matplotlib.pyplot as plt\n",
				"\n",
				"\n",
				"lr = 0.001  # 하이퍼파라미터 설정\n",
				"model = model.to('cuda')\n",
				"loss_fn = nn.CrossEntropyLoss()  # ★ 다중 클래스 분류 손실 함수\n",
				"\n",
				"optimizer = Adam(model.parameters(), lr=lr)\n",
				"n_epochs = 10\n",
				"\n",
				"for epoch in range(n_epochs):\n",
				"  total_loss = 0.\n",
				"  model.train()  # 학습 모드\n",
				"  for data in train_loader:\n",
				"    model.zero_grad()  # 이전 그래디언트 초기화\n",
				"    inputs, labels = data\n",
				"    inputs, labels = inputs.to('cuda'), labels.to('cuda')\n",
				"\n",
				"    preds = model(inputs)  # 예측값 계산\n",
				"    loss = loss_fn(preds, labels)  # 손실 계산\n",
				"    loss.backward()  # 역전파\n",
				"    optimizer.step()  # 가중치 업데이트\n",
				"\n",
				"    total_loss += loss.item()  # 손실 누적\n",
				"\n",
				"  print(f\"Epoch {epoch:3d} | Train Loss: {total_loss}\")"
			]
		},
		{
			"cell_type": "code",
			"execution_count": null,
			"metadata": {
				"id": "DjphVwXL00E2",
				"colab": {
					"base_uri": "https://localhost:8080/"
				},
				"outputId": "268fe013-e10e-496c-dfa8-3621d3d60b5a"
			},
			"outputs": [
				{
					"output_type": "stream",
					"name": "stdout",
					"text": [
						"=========> Train acc: 0.863 | Test acc: 0.861\n"
					]
				}
			],
			"source": [
				"# 정확도 측정 함수\n",
				"def accuracy(model, dataloader):\n",
				"  cnt = 0\n",
				"  acc = 0\n",
				"\n",
				"  for data in dataloader:\n",
				"    inputs, labels = data\n",
				"    inputs, labels = inputs.to('cuda'), labels.to('cuda')\n",
				"\n",
				"    preds = model(inputs)\n",
				"    preds = torch.argmax(preds, dim=-1)  # 가장 높은 확률의 클래스 선택\n",
				"\n",
				"    cnt += labels.shape[0]  # 전체 샘플 수 누적\n",
				"    acc += (labels == preds).sum().item()  # 정답 수 누적\n",
				"\n",
				"  return acc / cnt  # 정확도 계산\n",
				"\n",
				"# 평가 모드에서 정확도 출력\n",
				"with torch.no_grad():\n",
				"  model.eval()\n",
				"  train_acc = accuracy(model, train_loader)\n",
				"  test_acc = accuracy(model, test_loader)\n",
				"  print(f\"=========> Train acc: {train_acc:.3f} | Test acc: {test_acc:.3f}\")"
			]
		},
		{
			"cell_type": "code",
			"source": [
				"# 분류 라벨을 숫자 -> 문자열로 매핑\n",
				"label_names = {\n",
				"    0: \"World\",\n",
				"    1: \"Sports\",\n",
				"    2: \"Business\",\n",
				"    3: \"Sci/Tech\"\n",
				"}\n",
				"\n",
				"def predict(text, model, tokenizer):\n",
				"    model.eval()  # 평가 모드\n",
				"    with torch.no_grad():\n",
				"        # 입력 텍스트를 토크나이즈하고 텐서로 변환\n",
				"        inputs = tokenizer(text, return_tensors=\"pt\", padding=True, truncation=True, max_length=512)\n",
				"        input_ids = inputs[\"input_ids\"].to(\"cuda\")\n",
				"\n",
				"        # 모델에 입력 후 결과 예측\n",
				"        output = model(input_ids)\n",
				"        pred_label = torch.argmax(output, dim=1).item()  # 예측 라벨\n",
				"\n",
				"        # 예측 라벨 이름 반환\n",
				"        return label_names[pred_label]"
			],
			"metadata": {
				"id": "xcA_4wQQyt3f"
			},
			"execution_count": null,
			"outputs": []
		},
		{
			"cell_type": "code",
			"source": [
				"example_text = \"NASA has announced a new plan for future Mars missions using robotic systems.\"\n",
				"\n",
				"# 예측\n",
				"prediction = predict(example_text, model, tokenizer)\n",
				"\n",
				"print(f\"뉴스 내용: {example_text}\")\n",
				"print(f\"예측 카테고리: {prediction}\")"
			],
			"metadata": {
				"colab": {
					"base_uri": "https://localhost:8080/"
				},
				"id": "3YEysODDltaL",
				"outputId": "c67e73fd-6488-4aaa-a5e7-89ee50aa170d"
			},
			"execution_count": null,
			"outputs": [
				{
					"output_type": "stream",
					"name": "stdout",
					"text": [
						"뉴스 내용: NASA has announced a new plan for future Mars missions using robotic systems.\n",
						"예측 카테고리: Sci/Tech\n"
					]
				}
			]
		},
		{
			"cell_type": "code",
			"source": [
				"test_ds['text'][:1]"
			],
			"metadata": {
				"colab": {
					"base_uri": "https://localhost:8080/"
				},
				"id": "0vKJe-tomyeF",
				"outputId": "08348e16-faa3-4fc7-a7b9-2a84e13091b0"
			},
			"execution_count": null,
			"outputs": [
				{
					"output_type": "execute_result",
					"data": {
						"text/plain": [
							"[\"Fears for T N pension after talks Unions representing workers at Turner   Newall say they are 'disappointed' after talks with stricken parent firm Federal Mogul.\"]"
						]
					},
					"metadata": {},
					"execution_count": 15
				}
			]
		},
		{
			"cell_type": "code",
			"source": [
				"test_ds['label'][:1]"
			],
			"metadata": {
				"colab": {
					"base_uri": "https://localhost:8080/"
				},
				"id": "rTXabXc8m_-U",
				"outputId": "b217a97b-a112-438e-8236-c328e8be6c53"
			},
			"execution_count": null,
			"outputs": [
				{
					"output_type": "execute_result",
					"data": {
						"text/plain": [
							"[2]"
						]
					},
					"metadata": {},
					"execution_count": 18
				}
			]
		},
		{
			"cell_type": "code",
			"source": [
				"example_text = \"Fears for T N pension after talks Unions representing workers at Turner   Newall say they are 'disappointed' after talks with stricken parent firm Federal Mogul.\"\n",
				"\n",
				"# 예측\n",
				"prediction = predict(example_text, model, tokenizer)\n",
				"\n",
				"print(f\"뉴스 내용: {example_text}\")\n",
				"print(f\"예측 카테고리: {prediction}\")"
			],
			"metadata": {
				"colab": {
					"base_uri": "https://localhost:8080/"
				},
				"id": "PfvuamExmlDq",
				"outputId": "4411d7ae-7e24-460a-9e79-b9f753dcef00"
			},
			"execution_count": null,
			"outputs": [
				{
					"output_type": "stream",
					"name": "stdout",
					"text": [
						"뉴스 내용: Fears for T N pension after talks Unions representing workers at Turner   Newall say they are 'disappointed' after talks with stricken parent firm Federal Mogul.\n",
						"예측 카테고리: Business\n"
					]
				}
			]
		}
	],
	"metadata": {
		"accelerator": "GPU",
		"colab": {
			"gpuType": "T4",
			"provenance": [],
			"include_colab_link": true
		},
		"kernelspec": {
			"display_name": "Python 3",
			"name": "python3"
		},
		"language_info": {
			"name": "python"
		},
	},
	"nbformat": 4,
	"nbformat_minor": 0
}
