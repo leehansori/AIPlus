{
 "cells": [
  {
   "cell_type": "markdown",
   "metadata": {},
   "source": [
    "# [1주차]_심화과제_MNIST_예측_모델에_deep_learning_techniques_적용하기"
   ]
  },
  {
   "cell_type": "code",
   "execution_count": 1,
   "metadata": {
    "id": "bY-C1l1-Csf3"
   },
   "outputs": [],
   "source": [
    "import torch\n",
    "import torchvision\n",
    "import torchvision.transforms as transforms"
   ]
  },
  {
   "cell_type": "code",
   "execution_count": 2,
   "metadata": {
    "id": "IXyD-teDCxgf"
   },
   "outputs": [],
   "source": [
    "import numpy as np\n",
    "import matplotlib.pyplot as plt\n",
    "\n",
    "\n",
    "def accuracy(model, dataloader):\n",
    "  cnt = 0\n",
    "  acc = 0\n",
    "\n",
    "  for data in dataloader:\n",
    "    inputs, labels = data\n",
    "    inputs, labels = inputs.to('cuda'), labels.to('cuda')\n",
    "\n",
    "    preds = model(inputs)\n",
    "    preds = torch.argmax(preds, dim=-1)\n",
    "\n",
    "    cnt += labels.shape[0]\n",
    "    acc += (labels == preds).sum().item()\n",
    "\n",
    "  return acc / cnt\n",
    "\n",
    "\n",
    "def plot_acc(train_accs, test_accs, label1='train', label2='test'):\n",
    "  x = np.arange(len(train_accs))\n",
    "\n",
    "  plt.plot(x, train_accs, label=label1)\n",
    "  plt.plot(x, test_accs, label=label2)\n",
    "  plt.legend()\n",
    "  plt.show()"
   ]
  },
  {
   "cell_type": "code",
   "execution_count": 3,
   "metadata": {
    "colab": {
     "base_uri": "https://localhost:8080/"
    },
    "id": "YlXhpXD2CzLl",
    "outputId": "e898699e-9f9e-42d9-db17-8fe9edcbf803"
   },
   "outputs": [
    {
     "name": "stderr",
     "output_type": "stream",
     "text": [
      "100%|██████████| 170M/170M [00:03<00:00, 44.1MB/s]\n"
     ]
    }
   ],
   "source": [
    "transform = transforms.ToTensor()\n",
    "\n",
    "trainset = torchvision.datasets.CIFAR10( # dataset을 CIFAR10으로 변경\n",
    "    root='./data',\n",
    "    train=True,\n",
    "    download=True,\n",
    "    transform=transform\n",
    ")\n",
    "testset = torchvision.datasets.CIFAR10(\n",
    "    root='./data',\n",
    "    train=False,\n",
    "    download=True,\n",
    "    transform=transform\n",
    ")"
   ]
  },
  {
   "cell_type": "code",
   "execution_count": 4,
   "metadata": {
    "colab": {
     "base_uri": "https://localhost:8080/"
    },
    "id": "Db-vCtL1C2_O",
    "outputId": "a687eb1a-f1fb-439e-9479-0739670e19e0"
   },
   "outputs": [
    {
     "name": "stdout",
     "output_type": "stream",
     "text": [
      "50000\n",
      "torch.Size([3, 32, 32]) 6\n"
     ]
    }
   ],
   "source": [
    "print(len(trainset))\n",
    "print(trainset[0][0].shape, trainset[0][1]) # CIFAR10의 shape 확인"
   ]
  },
  {
   "cell_type": "code",
   "execution_count": 5,
   "metadata": {
    "id": "noj1dKygDtNf"
   },
   "outputs": [],
   "source": [
    "batch_size = 256\n",
    "\n",
    "trainloader = torch.utils.data.DataLoader(\n",
    "    trainset,\n",
    "    batch_size=batch_size,\n",
    "    shuffle=True\n",
    ")\n",
    "testloader = torch.utils.data.DataLoader(\n",
    "    testset,\n",
    "    batch_size=batch_size,\n",
    "    shuffle=False\n",
    ")"
   ]
  },
  {
   "cell_type": "code",
   "execution_count": 6,
   "metadata": {
    "id": "RrBeurqZDS7Z"
   },
   "outputs": [],
   "source": [
    "from torch import nn\n",
    "\n",
    "\n",
    "class Model1(nn.Module):\n",
    "  def __init__(self, input_dim, n_dim):\n",
    "    super().__init__()\n",
    "\n",
    "    self.layer1 = nn.Linear(input_dim, n_dim)\n",
    "    self.layer2 = nn.Linear(n_dim, n_dim)\n",
    "    self.layer3 = nn.Linear(n_dim, 10)\n",
    "\n",
    "    self.act = nn.LeakyReLU() # Activation 함수를 `nn.ReLU`에서 `nn.LeakyReLU`로 변경\n",
    "\n",
    "  def forward(self, x):\n",
    "    x = torch.flatten(x, start_dim=1)\n",
    "    x = self.act(self.layer1(x))\n",
    "    x = self.act(self.layer2(x))\n",
    "    x = self.act(self.layer3(x))\n",
    "\n",
    "    return x"
   ]
  },
  {
   "cell_type": "code",
   "execution_count": 7,
   "metadata": {
    "colab": {
     "base_uri": "https://localhost:8080/"
    },
    "id": "ogF0IV_qDdgI",
    "outputId": "c80092cc-3503-498b-befa-2c136de1d7e0"
   },
   "outputs": [
    {
     "name": "stdout",
     "output_type": "stream",
     "text": [
      "Epoch   1 | Loss: 451.16529393196106\n",
      "Epoch   2 | Loss: 450.66032814979553\n",
      "Epoch   3 | Loss: 450.2171423435211\n",
      "Epoch   4 | Loss: 449.7861976623535\n",
      "Epoch   5 | Loss: 449.37306904792786\n",
      "Epoch   6 | Loss: 448.96684098243713\n",
      "Epoch   7 | Loss: 448.5678791999817\n",
      "Epoch   8 | Loss: 448.17002749443054\n",
      "Epoch   9 | Loss: 447.7711718082428\n",
      "Epoch  10 | Loss: 447.3304076194763\n",
      "Epoch  11 | Loss: 446.8447389602661\n",
      "Epoch  12 | Loss: 446.3554513454437\n",
      "Epoch  13 | Loss: 445.8690855503082\n",
      "Epoch  14 | Loss: 445.38442945480347\n",
      "Epoch  15 | Loss: 444.8774473667145\n",
      "Epoch  16 | Loss: 444.378280878067\n",
      "Epoch  17 | Loss: 443.86891889572144\n",
      "Epoch  18 | Loss: 443.33335161209106\n",
      "Epoch  19 | Loss: 442.8024172782898\n",
      "Epoch  20 | Loss: 442.31041383743286\n",
      "Epoch  21 | Loss: 441.78740191459656\n",
      "Epoch  22 | Loss: 441.23618721961975\n",
      "Epoch  23 | Loss: 440.68158435821533\n",
      "Epoch  24 | Loss: 440.15813875198364\n",
      "Epoch  25 | Loss: 439.6091754436493\n",
      "Epoch  26 | Loss: 439.0606880187988\n",
      "Epoch  27 | Loss: 438.5078203678131\n",
      "Epoch  28 | Loss: 437.9088943004608\n",
      "Epoch  29 | Loss: 436.06074714660645\n",
      "Epoch  30 | Loss: 434.55176281929016\n",
      "Epoch  31 | Loss: 433.3301491737366\n",
      "Epoch  32 | Loss: 432.1435823440552\n",
      "Epoch  33 | Loss: 431.08191561698914\n",
      "Epoch  34 | Loss: 430.07526445388794\n",
      "Epoch  35 | Loss: 429.08976674079895\n",
      "Epoch  36 | Loss: 428.13991832733154\n",
      "Epoch  37 | Loss: 427.2550251483917\n",
      "Epoch  38 | Loss: 426.4139904975891\n",
      "Epoch  39 | Loss: 425.6000816822052\n",
      "Epoch  40 | Loss: 424.7657461166382\n",
      "Epoch  41 | Loss: 424.12242245674133\n",
      "Epoch  42 | Loss: 423.32749247550964\n",
      "Epoch  43 | Loss: 422.6627678871155\n",
      "Epoch  44 | Loss: 420.16743516921997\n",
      "Epoch  45 | Loss: 417.6843457221985\n",
      "Epoch  46 | Loss: 416.34468245506287\n",
      "Epoch  47 | Loss: 414.83220314979553\n",
      "Epoch  48 | Loss: 412.2881987094879\n",
      "Epoch  49 | Loss: 410.60649490356445\n",
      "Epoch  50 | Loss: 409.192706823349\n"
     ]
    }
   ],
   "source": [
    "# optimizer SGD로 시도\n",
    "from torch.optim import SGD, Adam\n",
    "\n",
    "lr = 0.001\n",
    "\n",
    "model = Model1(32 * 32 * 3, 1024)\n",
    "model = model.to('cuda')\n",
    "\n",
    "optimizer = SGD(model.parameters(), lr=lr)\n",
    "\n",
    "n_epochs = 50\n",
    "loss_fn = nn.CrossEntropyLoss()\n",
    "\n",
    "train_sgd = []\n",
    "\n",
    "for epoch in range(n_epochs):\n",
    "  total_loss = 0.\n",
    "  for data in trainloader:\n",
    "    model.zero_grad()\n",
    "    inputs, labels = data\n",
    "    inputs, labels = inputs.to('cuda'), labels.to('cuda')\n",
    "\n",
    "    preds = model(inputs)\n",
    "    loss = loss_fn(preds, labels)\n",
    "    loss.backward()\n",
    "    optimizer.step()\n",
    "\n",
    "    total_loss += loss.item()\n",
    "\n",
    "  train_sgd.append(accuracy(model, trainloader))\n",
    "\n",
    "  print(f\"Epoch {epoch + 1:3d} | Loss: {total_loss}\")"
   ]
  },
  {
   "cell_type": "code",
   "execution_count": 8,
   "metadata": {
    "colab": {
     "base_uri": "https://localhost:8080/"
    },
    "id": "cRKLyhUKED-I",
    "outputId": "62217db5-f551-4f51-db98-5f74cda5928e"
   },
   "outputs": [
    {
     "name": "stdout",
     "output_type": "stream",
     "text": [
      "Epoch   1 | Loss: 431.7863224744797\n",
      "Epoch   2 | Loss: 389.99160850048065\n",
      "Epoch   3 | Loss: 370.22982573509216\n",
      "Epoch   4 | Loss: 355.73386204242706\n",
      "Epoch   5 | Loss: 342.3149001598358\n",
      "Epoch   6 | Loss: 333.975977063179\n",
      "Epoch   7 | Loss: 325.98765087127686\n",
      "Epoch   8 | Loss: 318.34183371067047\n",
      "Epoch   9 | Loss: 313.61369729042053\n",
      "Epoch  10 | Loss: 306.79106640815735\n",
      "Epoch  11 | Loss: 301.91481506824493\n",
      "Epoch  12 | Loss: 296.007212638855\n",
      "Epoch  13 | Loss: 294.0862897634506\n",
      "Epoch  14 | Loss: 287.2461824417114\n",
      "Epoch  15 | Loss: 283.45970010757446\n",
      "Epoch  16 | Loss: 279.1364115476608\n",
      "Epoch  17 | Loss: 276.70909309387207\n",
      "Epoch  18 | Loss: 271.7638478279114\n",
      "Epoch  19 | Loss: 270.0204436779022\n",
      "Epoch  20 | Loss: 263.781733751297\n",
      "Epoch  21 | Loss: 259.98688995838165\n",
      "Epoch  22 | Loss: 259.8239195346832\n",
      "Epoch  23 | Loss: 254.80926382541656\n",
      "Epoch  24 | Loss: 250.1661696434021\n",
      "Epoch  25 | Loss: 250.7866461277008\n",
      "Epoch  26 | Loss: 244.24474394321442\n",
      "Epoch  27 | Loss: 245.18894982337952\n",
      "Epoch  28 | Loss: 238.5621653199196\n",
      "Epoch  29 | Loss: 236.10704100131989\n",
      "Epoch  30 | Loss: 232.03379201889038\n",
      "Epoch  31 | Loss: 228.68542003631592\n",
      "Epoch  32 | Loss: 225.71315103769302\n",
      "Epoch  33 | Loss: 224.9074591398239\n",
      "Epoch  34 | Loss: 222.46582061052322\n",
      "Epoch  35 | Loss: 220.1655382514\n",
      "Epoch  36 | Loss: 216.70888060331345\n",
      "Epoch  37 | Loss: 211.54658073186874\n",
      "Epoch  38 | Loss: 209.05163848400116\n",
      "Epoch  39 | Loss: 206.5582440495491\n",
      "Epoch  40 | Loss: 204.80384010076523\n",
      "Epoch  41 | Loss: 199.37721854448318\n",
      "Epoch  42 | Loss: 199.53256767988205\n",
      "Epoch  43 | Loss: 193.12671291828156\n",
      "Epoch  44 | Loss: 190.98958939313889\n",
      "Epoch  45 | Loss: 194.34442645311356\n",
      "Epoch  46 | Loss: 185.60570311546326\n",
      "Epoch  47 | Loss: 181.19130784273148\n",
      "Epoch  48 | Loss: 183.88712853193283\n",
      "Epoch  49 | Loss: 177.15100306272507\n",
      "Epoch  50 | Loss: 191.23447614908218\n"
     ]
    }
   ],
   "source": [
    "# optimizer Adam으로 시도\n",
    "model = Model1(32 * 32 * 3, 1024)\n",
    "model = model.to('cuda')\n",
    "\n",
    "optimizer = Adam(model.parameters(), lr=lr)\n",
    "\n",
    "train_adam = []\n",
    "test_adam = []\n",
    "\n",
    "for epoch in range(n_epochs):\n",
    "  total_loss = 0.\n",
    "  for data in trainloader:\n",
    "    model.zero_grad()\n",
    "    inputs, labels = data\n",
    "    inputs, labels = inputs.to('cuda'), labels.to('cuda')\n",
    "\n",
    "    preds = model(inputs)\n",
    "    loss = loss_fn(preds, labels)\n",
    "    loss.backward()\n",
    "    optimizer.step()\n",
    "\n",
    "    total_loss += loss.item()\n",
    "\n",
    "  train_adam.append(accuracy(model, trainloader))\n",
    "  test_adam.append(accuracy(model, testloader))\n",
    "\n",
    "  print(f\"Epoch {epoch + 1:3d} | Loss: {total_loss}\")"
   ]
  },
  {
   "cell_type": "code",
   "execution_count": 9,
   "metadata": {
    "colab": {
     "base_uri": "https://localhost:8080/",
     "height": 430
    },
    "id": "AgMktPjWEWCR",
    "outputId": "ac68c0ff-9a57-48d9-b198-f1ac0486f46c"
   },
   "outputs": [
    {
     "data": {
      "image/png": "[encoded data removed]",
      "text/plain": [
       "<Figure size 640x480 with 1 Axes>"
      ]
     },
     "metadata": {},
     "output_type": "display_data"
    }
   ],
   "source": [
    "plot_acc(train_sgd, train_adam, 'sgd', 'adam') # 시각화로 비교. adam이 더 정확도가 높음"
   ]
  },
  {
   "cell_type": "code",
   "execution_count": 10,
   "metadata": {
    "id": "JcxZ_53UEg-K"
   },
   "outputs": [],
   "source": [
    "class Model2(nn.Module):\n",
    "  def __init__(self, input_dim, n_dim):\n",
    "    super().__init__()\n",
    "\n",
    "    self.layer1 = nn.Linear(input_dim, n_dim)\n",
    "    self.layer2 = nn.Linear(n_dim, n_dim)\n",
    "    self.layer3 = nn.Linear(n_dim, 10)\n",
    "\n",
    "    self.act = nn.Sigmoid() # Activation 함수를 Sigmoid로 변경\n",
    "\n",
    "  def forward(self, x):\n",
    "    x = torch.flatten(x, start_dim=1)\n",
    "    x = self.act(self.layer1(x))\n",
    "    x = self.act(self.layer2(x))\n",
    "    x = self.act(self.layer3(x))\n",
    "\n",
    "    return x"
   ]
  },
  {
   "cell_type": "code",
   "execution_count": 11,
   "metadata": {
    "colab": {
     "base_uri": "https://localhost:8080/"
    },
    "id": "XuMCwbocEtGb",
    "outputId": "065f9131-939e-40bc-8c74-749b2a6ce164"
   },
   "outputs": [
    {
     "name": "stdout",
     "output_type": "stream",
     "text": [
      "Epoch   1 | Loss: 410.7064172029495\n",
      "Epoch   2 | Loss: 392.6366926431656\n",
      "Epoch   3 | Loss: 386.38366317749023\n",
      "Epoch   4 | Loss: 384.18527030944824\n",
      "Epoch   5 | Loss: 381.10466039180756\n",
      "Epoch   6 | Loss: 379.29200088977814\n",
      "Epoch   7 | Loss: 377.3080224990845\n",
      "Epoch   8 | Loss: 375.8725663423538\n",
      "Epoch   9 | Loss: 374.57520401477814\n",
      "Epoch  10 | Loss: 373.4094730615616\n",
      "Epoch  11 | Loss: 372.1556046009064\n",
      "Epoch  12 | Loss: 371.554390668869\n",
      "Epoch  13 | Loss: 370.3854501247406\n",
      "Epoch  14 | Loss: 370.2460513114929\n",
      "Epoch  15 | Loss: 368.16781270504\n",
      "Epoch  16 | Loss: 368.2111027240753\n",
      "Epoch  17 | Loss: 367.2056632041931\n",
      "Epoch  18 | Loss: 366.061044216156\n",
      "Epoch  19 | Loss: 365.16178023815155\n",
      "Epoch  20 | Loss: 364.18500900268555\n",
      "Epoch  21 | Loss: 363.74890899658203\n",
      "Epoch  22 | Loss: 363.9175411462784\n",
      "Epoch  23 | Loss: 362.8839681148529\n",
      "Epoch  24 | Loss: 362.37208104133606\n",
      "Epoch  25 | Loss: 361.31492483615875\n",
      "Epoch  26 | Loss: 361.4096145629883\n",
      "Epoch  27 | Loss: 360.70065426826477\n",
      "Epoch  28 | Loss: 360.721342921257\n",
      "Epoch  29 | Loss: 359.6470183134079\n",
      "Epoch  30 | Loss: 359.079509139061\n",
      "Epoch  31 | Loss: 358.6591920852661\n",
      "Epoch  32 | Loss: 358.4401879310608\n",
      "Epoch  33 | Loss: 358.05420565605164\n",
      "Epoch  34 | Loss: 357.0591183900833\n",
      "Epoch  35 | Loss: 355.9972286224365\n",
      "Epoch  36 | Loss: 356.79429852962494\n",
      "Epoch  37 | Loss: 356.17354452610016\n",
      "Epoch  38 | Loss: 356.5927212238312\n",
      "Epoch  39 | Loss: 355.85374641418457\n",
      "Epoch  40 | Loss: 354.762766957283\n",
      "Epoch  41 | Loss: 354.23026740550995\n",
      "Epoch  42 | Loss: 353.86012184619904\n",
      "Epoch  43 | Loss: 354.2339541912079\n",
      "Epoch  44 | Loss: 353.86959981918335\n",
      "Epoch  45 | Loss: 352.49287009239197\n",
      "Epoch  46 | Loss: 352.53193867206573\n",
      "Epoch  47 | Loss: 352.66423523426056\n",
      "Epoch  48 | Loss: 352.3690439462662\n",
      "Epoch  49 | Loss: 352.16062092781067\n",
      "Epoch  50 | Loss: 351.79990243911743\n"
     ]
    }
   ],
   "source": [
    "model = Model2(32 * 32 * 3, 1024)\n",
    "model = model.to('cuda')\n",
    "\n",
    "optimizer = Adam(model.parameters(), lr=lr)\n",
    "\n",
    "train_sigmoid = []\n",
    "\n",
    "for epoch in range(n_epochs):\n",
    "  total_loss = 0.\n",
    "  for data in trainloader:\n",
    "    model.zero_grad()\n",
    "    inputs, labels = data\n",
    "    inputs, labels = inputs.to('cuda'), labels.to('cuda')\n",
    "\n",
    "    preds = model(inputs)\n",
    "    loss = loss_fn(preds, labels)\n",
    "    loss.backward()\n",
    "    optimizer.step()\n",
    "\n",
    "    total_loss += loss.item()\n",
    "\n",
    "  train_sigmoid.append(accuracy(model, trainloader))\n",
    "\n",
    "  print(f\"Epoch {epoch + 1:3d} | Loss: {total_loss}\")"
   ]
  },
  {
   "cell_type": "code",
   "execution_count": 12,
   "metadata": {
    "colab": {
     "base_uri": "https://localhost:8080/",
     "height": 430
    },
    "id": "y9Znl_HDFAbs",
    "outputId": "be3d6197-bf87-42ee-ecd0-c1088ae6542f"
   },
   "outputs": [
    {
     "data": {
      "image/png": "[encoded data removed]",
      "text/plain": [
       "<Figure size 640x480 with 1 Axes>"
      ]
     },
     "metadata": {},
     "output_type": "display_data"
    }
   ],
   "source": [
    "plot_acc(train_adam, train_sigmoid, 'relu', 'sigmoid') # 시각화. relu가 더 잘됨"
   ]
  },
  {
   "cell_type": "code",
   "execution_count": 13,
   "metadata": {
    "id": "chElXgcuFGi1"
   },
   "outputs": [],
   "source": [
    "# Dropout\n",
    "\n",
    "class Model3(nn.Module):\n",
    "  def __init__(self, input_dim, n_dim):\n",
    "    super().__init__()\n",
    "\n",
    "    self.layer1 = nn.Linear(input_dim, n_dim)\n",
    "    self.layer2 = nn.Linear(n_dim, n_dim)\n",
    "    self.layer3 = nn.Linear(n_dim, 10)\n",
    "\n",
    "    self.act = nn.LeakyReLU()\n",
    "    self.dropout = nn.Dropout(p=0.1) # dropout 추가\n",
    "\n",
    "  def forward(self, x):\n",
    "    x = torch.flatten(x, start_dim=1)\n",
    "    x = self.dropout(self.act(self.layer1(x)))\n",
    "    x = self.dropout(self.act(self.layer2(x)))\n",
    "    x = self.dropout(self.act(self.layer3(x)))\n",
    "\n",
    "    return x"
   ]
  },
  {
   "cell_type": "code",
   "execution_count": 14,
   "metadata": {
    "colab": {
     "base_uri": "https://localhost:8080/"
    },
    "id": "x9a21qCSFiRE",
    "outputId": "0ab6db7a-bcd2-4761-a4ee-c50f6900f7e4"
   },
   "outputs": [
    {
     "name": "stdout",
     "output_type": "stream",
     "text": [
      "Epoch   1 | Loss: 443.87301445007324\n",
      "Epoch   2 | Loss: 417.5818190574646\n",
      "Epoch   3 | Loss: 408.15256571769714\n",
      "Epoch   4 | Loss: 395.8892432451248\n",
      "Epoch   5 | Loss: 391.72925221920013\n",
      "Epoch   6 | Loss: 384.8757475614548\n",
      "Epoch   7 | Loss: 381.9365773200989\n",
      "Epoch   8 | Loss: 378.45908999443054\n",
      "Epoch   9 | Loss: 373.1426668167114\n",
      "Epoch  10 | Loss: 370.80331444740295\n",
      "Epoch  11 | Loss: 366.37876641750336\n",
      "Epoch  12 | Loss: 363.02128505706787\n",
      "Epoch  13 | Loss: 360.98017513751984\n",
      "Epoch  14 | Loss: 357.79074692726135\n",
      "Epoch  15 | Loss: 355.26946663856506\n",
      "Epoch  16 | Loss: 354.9398082494736\n",
      "Epoch  17 | Loss: 351.59520494937897\n",
      "Epoch  18 | Loss: 350.3925734758377\n",
      "Epoch  19 | Loss: 346.1833931207657\n",
      "Epoch  20 | Loss: 346.54360127449036\n",
      "Epoch  21 | Loss: 345.11834836006165\n",
      "Epoch  22 | Loss: 343.3246775865555\n",
      "Epoch  23 | Loss: 340.56767225265503\n",
      "Epoch  24 | Loss: 339.0274969339371\n",
      "Epoch  25 | Loss: 338.7857576608658\n",
      "Epoch  26 | Loss: 336.02698731422424\n",
      "Epoch  27 | Loss: 333.8712638616562\n",
      "Epoch  28 | Loss: 334.29592621326447\n",
      "Epoch  29 | Loss: 332.51433753967285\n",
      "Epoch  30 | Loss: 330.4895496368408\n",
      "Epoch  31 | Loss: 330.7534432411194\n",
      "Epoch  32 | Loss: 327.70652770996094\n",
      "Epoch  33 | Loss: 325.71490955352783\n",
      "Epoch  34 | Loss: 327.1828212738037\n",
      "Epoch  35 | Loss: 323.5529217720032\n",
      "Epoch  36 | Loss: 323.22147357463837\n",
      "Epoch  37 | Loss: 322.7358192205429\n",
      "Epoch  38 | Loss: 319.94589471817017\n",
      "Epoch  39 | Loss: 322.0935769081116\n",
      "Epoch  40 | Loss: 319.9010272026062\n",
      "Epoch  41 | Loss: 318.30900728702545\n",
      "Epoch  42 | Loss: 316.3591682910919\n",
      "Epoch  43 | Loss: 319.06859159469604\n",
      "Epoch  44 | Loss: 313.90276539325714\n",
      "Epoch  45 | Loss: 316.0413074493408\n",
      "Epoch  46 | Loss: 314.472939491272\n",
      "Epoch  47 | Loss: 313.8250468969345\n",
      "Epoch  48 | Loss: 311.244833111763\n",
      "Epoch  49 | Loss: 311.8619432449341\n",
      "Epoch  50 | Loss: 309.00677835941315\n"
     ]
    }
   ],
   "source": [
    "model = Model3(32 * 32 * 3, 1024)\n",
    "model = model.to('cuda')\n",
    "\n",
    "optimizer = Adam(model.parameters(), lr=lr)\n",
    "\n",
    "train_dropout = []\n",
    "test_dropout = []\n",
    "\n",
    "for epoch in range(n_epochs):\n",
    "  total_loss = 0.\n",
    "  model.train()\n",
    "  for data in trainloader:\n",
    "    model.zero_grad()\n",
    "    inputs, labels = data\n",
    "    inputs, labels = inputs.to('cuda'), labels.to('cuda')\n",
    "\n",
    "    preds = model(inputs)\n",
    "    loss = loss_fn(preds, labels)\n",
    "    loss.backward()\n",
    "    optimizer.step()\n",
    "\n",
    "    total_loss += loss.item()\n",
    "\n",
    "  with torch.no_grad():\n",
    "    model.eval()\n",
    "    train_dropout.append(accuracy(model, trainloader))\n",
    "    test_dropout.append(accuracy(model, testloader))\n",
    "\n",
    "  print(f\"Epoch {epoch + 1:3d} | Loss: {total_loss}\")"
   ]
  },
  {
   "cell_type": "code",
   "execution_count": 15,
   "metadata": {
    "colab": {
     "base_uri": "https://localhost:8080/",
     "height": 430
    },
    "id": "byECHA8pFxU1",
    "outputId": "db1c05c6-ba33-46f2-afcd-37daa562ce0f"
   },
   "outputs": [
    {
     "data": {
      "image/png": "[encoded data removed]",
      "text/plain": [
       "<Figure size 640x480 with 1 Axes>"
      ]
     },
     "metadata": {},
     "output_type": "display_data"
    }
   ],
   "source": [
    "plot_acc(train_adam, test_adam)"
   ]
  },
  {
   "cell_type": "code",
   "execution_count": 16,
   "metadata": {
    "colab": {
     "base_uri": "https://localhost:8080/",
     "height": 430
    },
    "id": "n95guexUFz7j",
    "outputId": "ec0b2810-f571-47ec-c6be-15ead061b128"
   },
   "outputs": [
    {
     "data": {
      "image/png": "[encoded data removed]",
      "text/plain": [
       "<Figure size 640x480 with 1 Axes>"
      ]
     },
     "metadata": {},
     "output_type": "display_data"
    }
   ],
   "source": [
    "plot_acc(train_dropout, test_dropout)"
   ]
  },
  {
   "cell_type": "markdown",
   "metadata": {
    "id": "tdWBX2WdRvy4"
   },
   "source": [
    "# 결과\n",
    "## Optimizer\n",
    "- SGD < Adam\n",
    "\n",
    "## Activation 함수\n",
    "- LeakyReLU > Sigmoid\n",
    "\n",
    "## Dropout\n",
    "- dropout 적용 < 미적용 -> 왜 미적용이 더 정확도가 높은가요?"
   ]
  },
  {
   "cell_type": "code",
   "execution_count": null,
   "metadata": {
    "id": "VclqKxMfggCy"
   },
   "outputs": [],
   "source": []
  }
 ],
 "metadata": {
  "accelerator": "GPU",
  "colab": {
   "gpuType": "T4",
   "provenance": []
  },
  "kernelspec": {
   "display_name": "Python 3 (ipykernel)",
   "language": "python",
   "name": "python3"
  },
  "language_info": {
   "codemirror_mode": {
    "name": "ipython",
    "version": 3
   },
   "file_extension": ".py",
   "mimetype": "text/x-python",
   "name": "python",
   "nbconvert_exporter": "python",
   "pygments_lexer": "ipython3",
   "version": "3.11.1"
  }
 },
 "nbformat": 4,
 "nbformat_minor": 4
}
